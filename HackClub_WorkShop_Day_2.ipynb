{
  "nbformat": 4,
  "nbformat_minor": 0,
  "metadata": {
    "colab": {
      "name": "HackClub WorkShop Day 2.ipynb",
      "provenance": []
    },
    "kernelspec": {
      "name": "python3",
      "display_name": "Python 3"
    },
    "language_info": {
      "name": "python"
    }
  },
  "cells": [
    {
      "cell_type": "markdown",
      "metadata": {
        "id": "0hzu1K4KBhqA"
      },
      "source": [
        "# Arrays in Python"
      ]
    },
    {
      "cell_type": "code",
      "metadata": {
        "id": "tAr4ZP3JBhqB"
      },
      "source": [
        "import array"
      ],
      "execution_count": 1,
      "outputs": []
    },
    {
      "cell_type": "code",
      "metadata": {
        "colab": {
          "base_uri": "https://localhost:8080/"
        },
        "outputId": "979d3dec-64ab-4e1f-fb6c-c69b9d63fd58",
        "id": "XHcZUHigBhqB"
      },
      "source": [
        "a=array.array('i',[1,2,3,4,5,6])\n",
        "a"
      ],
      "execution_count": 2,
      "outputs": [
        {
          "output_type": "execute_result",
          "data": {
            "text/plain": [
              "array('i', [1, 2, 3, 4, 5, 6])"
            ]
          },
          "metadata": {},
          "execution_count": 2
        }
      ]
    },
    {
      "cell_type": "code",
      "metadata": {
        "id": "NDiCVudOBhqC"
      },
      "source": [
        "import array as arr"
      ],
      "execution_count": 3,
      "outputs": []
    },
    {
      "cell_type": "code",
      "metadata": {
        "colab": {
          "base_uri": "https://localhost:8080/"
        },
        "outputId": "5f9a47ab-a0e7-458a-dd78-1e22d01c469d",
        "id": "TW_-SxKfBhqC"
      },
      "source": [
        "b=arr.array('i',[1,2,3,4,5,6])\n",
        "b"
      ],
      "execution_count": 4,
      "outputs": [
        {
          "output_type": "execute_result",
          "data": {
            "text/plain": [
              "array('i', [1, 2, 3, 4, 5, 6])"
            ]
          },
          "metadata": {},
          "execution_count": 4
        }
      ]
    },
    {
      "cell_type": "code",
      "metadata": {
        "id": "m_6h3kuiBhqD"
      },
      "source": [
        "from array import *"
      ],
      "execution_count": 5,
      "outputs": []
    },
    {
      "cell_type": "code",
      "metadata": {
        "colab": {
          "base_uri": "https://localhost:8080/"
        },
        "outputId": "bc829be7-5952-4e56-db31-e67c23c7696a",
        "id": "AHKUtNNTBhqD"
      },
      "source": [
        "c=array('i',[1,2,3,4,5,6])\n",
        "c"
      ],
      "execution_count": 6,
      "outputs": [
        {
          "output_type": "execute_result",
          "data": {
            "text/plain": [
              "array('i', [1, 2, 3, 4, 5, 6])"
            ]
          },
          "metadata": {},
          "execution_count": 6
        }
      ]
    },
    {
      "cell_type": "code",
      "metadata": {
        "colab": {
          "base_uri": "https://localhost:8080/"
        },
        "outputId": "7230f288-b466-43b3-822f-aab74554acc2",
        "id": "B1FgfScIBhqE"
      },
      "source": [
        "#Accessing array elements\n",
        "a[3]"
      ],
      "execution_count": 7,
      "outputs": [
        {
          "output_type": "execute_result",
          "data": {
            "text/plain": [
              "4"
            ]
          },
          "metadata": {},
          "execution_count": 7
        }
      ]
    },
    {
      "cell_type": "code",
      "metadata": {
        "colab": {
          "base_uri": "https://localhost:8080/"
        },
        "outputId": "a1216b9d-d37c-46a8-c063-7bc87ab2a4d8",
        "id": "QeG1dxzQBhqG"
      },
      "source": [
        "len(a)"
      ],
      "execution_count": 8,
      "outputs": [
        {
          "output_type": "execute_result",
          "data": {
            "text/plain": [
              "6"
            ]
          },
          "metadata": {},
          "execution_count": 8
        }
      ]
    },
    {
      "cell_type": "markdown",
      "metadata": {
        "id": "8riGxKKv5a9k"
      },
      "source": [
        " # Input Function\n"
      ]
    },
    {
      "cell_type": "code",
      "metadata": {
        "id": "j15bS9vwXFM0",
        "colab": {
          "base_uri": "https://localhost:8080/"
        },
        "outputId": "435a804c-13e3-4497-fc49-445f81a06fc9"
      },
      "source": [
        "name=input(\"What is your name???\")\n",
        "print(\"My name is\",name)"
      ],
      "execution_count": 9,
      "outputs": [
        {
          "output_type": "stream",
          "name": "stdout",
          "text": [
            "What is your name???Dikshita\n",
            "My name is Dikshita\n"
          ]
        }
      ]
    },
    {
      "cell_type": "code",
      "metadata": {
        "colab": {
          "base_uri": "https://localhost:8080/"
        },
        "id": "Ik6yv1od6Nhc",
        "outputId": "0771e619-2911-4cf5-a3ba-8c730fd0b49d"
      },
      "source": [
        "a=int(input(\"Enter the first number: \"))\n",
        "b=int(input(\"Enter the second number: \"))\n",
        "print(a+b)"
      ],
      "execution_count": 10,
      "outputs": [
        {
          "output_type": "stream",
          "name": "stdout",
          "text": [
            "Enter the first number: 45\n",
            "Enter the second number: 89\n",
            "134\n"
          ]
        }
      ]
    },
    {
      "cell_type": "markdown",
      "metadata": {
        "id": "XbaPMwfGBhqG"
      },
      "source": [
        "# Operators in Python"
      ]
    },
    {
      "cell_type": "markdown",
      "metadata": {
        "id": "XoSwTzi-BhqH"
      },
      "source": [
        "I. Arithmetic Operations"
      ]
    },
    {
      "cell_type": "code",
      "metadata": {
        "id": "SwHaYyy1BhqH"
      },
      "source": [
        "p=10\n",
        "q=45"
      ],
      "execution_count": 11,
      "outputs": []
    },
    {
      "cell_type": "code",
      "metadata": {
        "colab": {
          "base_uri": "https://localhost:8080/"
        },
        "outputId": "fe3d9cd7-19f5-4fd7-8c27-c72357637eb3",
        "id": "ceNpJpECBhqH"
      },
      "source": [
        "print(p+q)\n",
        "print(p-q)\n",
        "print(p*q)\n",
        "print(p/q)\n",
        "print(p%q)\n",
        "print(p**q)\n"
      ],
      "execution_count": 12,
      "outputs": [
        {
          "output_type": "stream",
          "name": "stdout",
          "text": [
            "55\n",
            "-35\n",
            "450\n",
            "0.2222222222222222\n",
            "10\n",
            "1000000000000000000000000000000000000000000000\n"
          ]
        }
      ]
    },
    {
      "cell_type": "code",
      "metadata": {
        "id": "KescjY5-BhqI"
      },
      "source": [
        ""
      ],
      "execution_count": 12,
      "outputs": []
    },
    {
      "cell_type": "markdown",
      "metadata": {
        "id": "_nT_MMa0BhqI"
      },
      "source": [
        "II. Assignment Operators"
      ]
    },
    {
      "cell_type": "code",
      "metadata": {
        "id": "KFFATR-mBhqJ"
      },
      "source": [
        "a=5"
      ],
      "execution_count": 13,
      "outputs": []
    },
    {
      "cell_type": "code",
      "metadata": {
        "id": "ncoSbL7gBhqJ",
        "colab": {
          "base_uri": "https://localhost:8080/"
        },
        "outputId": "69d035ab-e008-4b46-d8f2-0373c9706567"
      },
      "source": [
        "a+=5  #a=a+5\n",
        "a"
      ],
      "execution_count": 14,
      "outputs": [
        {
          "output_type": "execute_result",
          "data": {
            "text/plain": [
              "10"
            ]
          },
          "metadata": {},
          "execution_count": 14
        }
      ]
    },
    {
      "cell_type": "code",
      "metadata": {
        "id": "2lpVuJ1cBhqJ",
        "colab": {
          "base_uri": "https://localhost:8080/"
        },
        "outputId": "dba1be86-9486-4f65-c9b6-bba6e58f0290"
      },
      "source": [
        "a*=10   #a=a*10\n",
        "a"
      ],
      "execution_count": 15,
      "outputs": [
        {
          "output_type": "execute_result",
          "data": {
            "text/plain": [
              "100"
            ]
          },
          "metadata": {},
          "execution_count": 15
        }
      ]
    },
    {
      "cell_type": "code",
      "metadata": {
        "id": "wE1l8TxqBhqK",
        "colab": {
          "base_uri": "https://localhost:8080/"
        },
        "outputId": "ab278949-fcf2-494c-b9c0-62736681c6d5"
      },
      "source": [
        "a*=12\n",
        "a"
      ],
      "execution_count": 16,
      "outputs": [
        {
          "output_type": "execute_result",
          "data": {
            "text/plain": [
              "1200"
            ]
          },
          "metadata": {},
          "execution_count": 16
        }
      ]
    },
    {
      "cell_type": "code",
      "metadata": {
        "id": "gd8pzWlSBhqK"
      },
      "source": [
        "x=True\n",
        "y=False"
      ],
      "execution_count": 17,
      "outputs": []
    },
    {
      "cell_type": "code",
      "metadata": {
        "id": "8UkUfVTGBhqL",
        "colab": {
          "base_uri": "https://localhost:8080/"
        },
        "outputId": "a9e9d261-f4a4-4c40-b83a-2f54ebd3c0ab"
      },
      "source": [
        "x&=y\n",
        "x"
      ],
      "execution_count": 18,
      "outputs": [
        {
          "output_type": "execute_result",
          "data": {
            "text/plain": [
              "False"
            ]
          },
          "metadata": {},
          "execution_count": 18
        }
      ]
    },
    {
      "cell_type": "code",
      "metadata": {
        "id": "xbkPVoGtBhqL",
        "colab": {
          "base_uri": "https://localhost:8080/"
        },
        "outputId": "d22ed798-1a30-4f39-f83c-47998d3f995b"
      },
      "source": [
        "x|=y\n",
        "x"
      ],
      "execution_count": 19,
      "outputs": [
        {
          "output_type": "execute_result",
          "data": {
            "text/plain": [
              "False"
            ]
          },
          "metadata": {},
          "execution_count": 19
        }
      ]
    },
    {
      "cell_type": "markdown",
      "metadata": {
        "id": "JGmHJT5aBhqM"
      },
      "source": [
        "III. Comparison Operator"
      ]
    },
    {
      "cell_type": "code",
      "metadata": {
        "id": "w7S_TZv_BhqM"
      },
      "source": [
        "val=10\n",
        "num=45"
      ],
      "execution_count": 20,
      "outputs": []
    },
    {
      "cell_type": "code",
      "metadata": {
        "id": "2r1oS58_BhqN"
      },
      "source": [
        "compare=val>num"
      ],
      "execution_count": 21,
      "outputs": []
    },
    {
      "cell_type": "code",
      "metadata": {
        "id": "sK1PTGQBBhqN",
        "colab": {
          "base_uri": "https://localhost:8080/"
        },
        "outputId": "eec790b5-fd29-4d67-f9b8-cc96e4a7d807"
      },
      "source": [
        "compare"
      ],
      "execution_count": 22,
      "outputs": [
        {
          "output_type": "execute_result",
          "data": {
            "text/plain": [
              "False"
            ]
          },
          "metadata": {},
          "execution_count": 22
        }
      ]
    },
    {
      "cell_type": "markdown",
      "source": [
        "#Conditional Statements"
      ],
      "metadata": {
        "id": "KCpGKsDEIa8D"
      }
    },
    {
      "cell_type": "code",
      "source": [
        "#Eg 1: if b>a\n",
        "a=12\n",
        "b=17\n",
        "\n",
        "if b>a:\n",
        "  print(\"b is greater than a\")\n",
        "\n"
      ],
      "metadata": {
        "id": "MJBV73C2R2Sm",
        "colab": {
          "base_uri": "https://localhost:8080/"
        },
        "outputId": "f0714720-ddf8-48d5-c5e8-ece0912456d0"
      },
      "execution_count": 23,
      "outputs": [
        {
          "output_type": "stream",
          "name": "stdout",
          "text": [
            "b is greater than a\n"
          ]
        }
      ]
    },
    {
      "cell_type": "markdown",
      "source": [
        "I. If Statement"
      ],
      "metadata": {
        "id": "N8uFwXFcR37V"
      }
    },
    {
      "cell_type": "code",
      "source": [
        "#Eg 2: positive number\n",
        "\n",
        "num=5\n",
        "if num>0:\n",
        "  print(num,\"is positive\")\n",
        "\n",
        "print(\"This statement is true\")\n",
        "\n",
        "\n"
      ],
      "metadata": {
        "id": "x98vgKPtRwaQ",
        "colab": {
          "base_uri": "https://localhost:8080/"
        },
        "outputId": "2fbed61c-e6c0-44ff-a6ef-4ce9f1594d26"
      },
      "execution_count": 24,
      "outputs": [
        {
          "output_type": "stream",
          "name": "stdout",
          "text": [
            "5 is positive\n",
            "This statement is true\n"
          ]
        }
      ]
    },
    {
      "cell_type": "markdown",
      "metadata": {
        "id": "NqeSq56DAMgn"
      },
      "source": [
        "I.If else conditions"
      ]
    },
    {
      "cell_type": "code",
      "metadata": {
        "id": "VncN2D8E_TIH",
        "colab": {
          "base_uri": "https://localhost:8080/"
        },
        "outputId": "8e9b5819-ec51-42bf-8743-6fbd25a2d244"
      },
      "source": [
        "# Eg 1: Even and odd number\n",
        "num=int(input(\"Enter the number:\"))\n",
        "\n",
        "if num%2==0:\n",
        "  print(num,\"is even\")\n",
        "\n",
        "else:\n",
        "  print(num,\"is odd\")"
      ],
      "execution_count": 25,
      "outputs": [
        {
          "output_type": "stream",
          "name": "stdout",
          "text": [
            "Enter the number:6\n",
            "6 is even\n"
          ]
        }
      ]
    },
    {
      "cell_type": "markdown",
      "metadata": {
        "id": "1kbMtWMGBenJ"
      },
      "source": [
        "If,else,else-if"
      ]
    },
    {
      "cell_type": "code",
      "metadata": {
        "id": "D4ag3YwpBenK",
        "colab": {
          "base_uri": "https://localhost:8080/"
        },
        "outputId": "689f997c-370e-45a4-fa4e-4f034d82666b"
      },
      "source": [
        "#Eg: Greater or smaller\n",
        "val=67\n",
        "num=89\n",
        "\n",
        "if val==num:\n",
        "  print(\"equal\")\n",
        "elif val>num:\n",
        "  print(\"val is greater\")\n",
        "\n",
        "else:\n",
        "  print(\"val is smaller\")\n",
        "\n"
      ],
      "execution_count": 26,
      "outputs": [
        {
          "output_type": "stream",
          "name": "stdout",
          "text": [
            "val is smaller\n"
          ]
        }
      ]
    },
    {
      "cell_type": "markdown",
      "metadata": {
        "id": "m2KsvOrKBhqO"
      },
      "source": [
        "###   Loops in Python"
      ]
    },
    {
      "cell_type": "markdown",
      "metadata": {
        "id": "3x5O2SnDBhqP"
      },
      "source": [
        "I. While Loop"
      ]
    },
    {
      "cell_type": "code",
      "metadata": {
        "id": "9QOHg5JPBhqP",
        "colab": {
          "base_uri": "https://localhost:8080/"
        },
        "outputId": "6d6155f2-9a6e-43d8-f1bb-371177d17eea"
      },
      "source": [
        "#Eg: Print till 8\n",
        "\n",
        "i=0\n",
        "while i<9:\n",
        "  print('Number:' ,i)\n",
        "  i=i+1\n",
        "\n",
        "print(\"We have printed the numbers till 8\")\n"
      ],
      "execution_count": 27,
      "outputs": [
        {
          "output_type": "stream",
          "name": "stdout",
          "text": [
            "Number: 0\n",
            "Number: 1\n",
            "Number: 2\n",
            "Number: 3\n",
            "Number: 4\n",
            "Number: 5\n",
            "Number: 6\n",
            "Number: 7\n",
            "Number: 8\n",
            "We have printed the numbers till 8\n"
          ]
        }
      ]
    },
    {
      "cell_type": "code",
      "metadata": {
        "id": "s-CYbCYuAS4m",
        "colab": {
          "base_uri": "https://localhost:8080/"
        },
        "outputId": "1f2ee8f4-659c-4ee2-aaaf-c9ded1845163"
      },
      "source": [
        "#Assignment\n",
        "#Print 2 table\n",
        "\n",
        "i=2\n",
        "while i<=20:\n",
        "  print(i)\n",
        "  i=i+2\n"
      ],
      "execution_count": 28,
      "outputs": [
        {
          "output_type": "stream",
          "name": "stdout",
          "text": [
            "2\n",
            "4\n",
            "6\n",
            "8\n",
            "10\n",
            "12\n",
            "14\n",
            "16\n",
            "18\n",
            "20\n"
          ]
        }
      ]
    },
    {
      "cell_type": "code",
      "metadata": {
        "id": "csBazaq1McQZ",
        "colab": {
          "base_uri": "https://localhost:8080/"
        },
        "outputId": "82dd3976-0fb2-4d8f-b3e2-ffd867e5ce53"
      },
      "source": [
        "import random\n",
        "random.seed(6)\n",
        "random.randint(0,14000)\n"
      ],
      "execution_count": 29,
      "outputs": [
        {
          "output_type": "execute_result",
          "data": {
            "text/plain": [
              "12998"
            ]
          },
          "metadata": {},
          "execution_count": 29
        }
      ]
    },
    {
      "cell_type": "markdown",
      "metadata": {
        "id": "sro5msLnuw0f"
      },
      "source": [
        "***************************************************\n",
        "*******************************************************"
      ]
    },
    {
      "cell_type": "code",
      "metadata": {
        "id": "NdTZ0HiNMciu",
        "colab": {
          "base_uri": "https://localhost:8080/"
        },
        "outputId": "d3f470a9-2341-4fff-a94d-66d580cc11d1"
      },
      "source": [
        " #3  Assignment :Create a list of 5 random numbers using while loop and random\n",
        "\n",
        "list=[]\n",
        "\n",
        "i=0\n",
        "while i<5:\n",
        "  list.append(random.randint(1,50))\n",
        "  i=i+1\n",
        "\n",
        "print(list)"
      ],
      "execution_count": 30,
      "outputs": [
        {
          "output_type": "stream",
          "name": "stdout",
          "text": [
            "[37, 6, 32, 49, 17]\n"
          ]
        }
      ]
    },
    {
      "cell_type": "markdown",
      "metadata": {
        "id": "D2bjqAUcBhqQ"
      },
      "source": [
        "II.For Loop"
      ]
    },
    {
      "cell_type": "code",
      "source": [
        "#Eg : Print 0 to 3\n",
        "\n",
        "n=4\n",
        "\n",
        "for i in range(0,n):\n",
        "  print(i)\n"
      ],
      "metadata": {
        "id": "nU8HqAwraqnu",
        "colab": {
          "base_uri": "https://localhost:8080/"
        },
        "outputId": "e8291b01-8914-413a-d0f1-a6a7140c0986"
      },
      "execution_count": 31,
      "outputs": [
        {
          "output_type": "stream",
          "name": "stdout",
          "text": [
            "0\n",
            "1\n",
            "2\n",
            "3\n"
          ]
        }
      ]
    },
    {
      "cell_type": "code",
      "metadata": {
        "id": "r8yAzlt4BhqQ",
        "colab": {
          "base_uri": "https://localhost:8080/"
        },
        "outputId": "a938eb98-2bc2-4183-f13c-1205e83056aa"
      },
      "source": [
        "#Eg : Print numbers less than 20\n",
        " \n",
        "for i in range(20):\n",
        "  print(i ,\"This number is less than 20\")\n",
        "\n",
        "print(\"GoodBye\")\n"
      ],
      "execution_count": 32,
      "outputs": [
        {
          "output_type": "stream",
          "name": "stdout",
          "text": [
            "0 This number is less than 20\n",
            "1 This number is less than 20\n",
            "2 This number is less than 20\n",
            "3 This number is less than 20\n",
            "4 This number is less than 20\n",
            "5 This number is less than 20\n",
            "6 This number is less than 20\n",
            "7 This number is less than 20\n",
            "8 This number is less than 20\n",
            "9 This number is less than 20\n",
            "10 This number is less than 20\n",
            "11 This number is less than 20\n",
            "12 This number is less than 20\n",
            "13 This number is less than 20\n",
            "14 This number is less than 20\n",
            "15 This number is less than 20\n",
            "16 This number is less than 20\n",
            "17 This number is less than 20\n",
            "18 This number is less than 20\n",
            "19 This number is less than 20\n",
            "GoodBye\n"
          ]
        }
      ]
    },
    {
      "cell_type": "code",
      "source": [
        "for i in range(1,50,5):\n",
        "  print(i)"
      ],
      "metadata": {
        "id": "LEp2vkzNCB6Q",
        "colab": {
          "base_uri": "https://localhost:8080/"
        },
        "outputId": "6f809675-a3ae-420a-bb6a-3e9a2abb5f56"
      },
      "execution_count": 33,
      "outputs": [
        {
          "output_type": "stream",
          "name": "stdout",
          "text": [
            "1\n",
            "6\n",
            "11\n",
            "16\n",
            "21\n",
            "26\n",
            "31\n",
            "36\n",
            "41\n",
            "46\n"
          ]
        }
      ]
    },
    {
      "cell_type": "code",
      "metadata": {
        "id": "60kb8gSME6sw",
        "colab": {
          "base_uri": "https://localhost:8080/"
        },
        "outputId": "9a39b7ac-d438-4e78-ad93-e7386099eaa2"
      },
      "source": [
        "#Assignment\n",
        "list2=[]\n",
        "for i in range(20):\n",
        "  list2.append(random.randint(1,50))\n",
        "  i=i+1\n",
        "print(list2)      #numbers can be repeated"
      ],
      "execution_count": 34,
      "outputs": [
        {
          "output_type": "stream",
          "name": "stdout",
          "text": [
            "[3, 1, 10, 43, 38, 31, 49, 48, 24, 21, 50, 2, 18, 32, 13, 47, 27, 35, 35, 44]\n"
          ]
        }
      ]
    },
    {
      "cell_type": "code",
      "metadata": {
        "id": "cCwj8bqjBhqR",
        "colab": {
          "base_uri": "https://localhost:8080/"
        },
        "outputId": "fc2e09fa-7591-4d92-8cc0-f986de9f6eb7"
      },
      "source": [
        "#'Python','Machine Learning','Data Analysis'\n",
        "DataScience=['Python','Machine Learning','Data Analysis']\n",
        "\n",
        "for i in DataScience:\n",
        "  print(i)\n",
        "\n",
        "print(\"I completed the Data Science Course\")"
      ],
      "execution_count": 35,
      "outputs": [
        {
          "output_type": "stream",
          "name": "stdout",
          "text": [
            "Python\n",
            "Machine Learning\n",
            "Data Analysis\n",
            "I completed the Data Science Course\n"
          ]
        }
      ]
    },
    {
      "cell_type": "code",
      "metadata": {
        "id": "VUpIZHQhC2wK",
        "colab": {
          "base_uri": "https://localhost:8080/"
        },
        "outputId": "812981fb-50dd-40a1-a5bd-f9c3d59e9f2f"
      },
      "source": [
        "#Factorial of a number\n",
        "\n",
        "num=int(input(\"Enter the number:\"))\n",
        "\n",
        "factorial=1\n",
        "\n",
        "if num<0:\n",
        "  print(\"Factorial for negative number is not possible\")\n",
        "\n",
        "elif num==0:\n",
        "  print(\"Factorial of 0 is 1\")\n",
        "\n",
        "else:\n",
        "  for i in range(1,num+1):\n",
        "    factorial=factorial*i\n",
        "  print(\"The factorial of\", num,\"is\", factorial)\n",
        "\n",
        "\n",
        "\n"
      ],
      "execution_count": 36,
      "outputs": [
        {
          "output_type": "stream",
          "name": "stdout",
          "text": [
            "Enter the number:5\n",
            "The factorial of 5 is 120\n"
          ]
        }
      ]
    },
    {
      "cell_type": "markdown",
      "metadata": {
        "id": "phGQotZOBhqU"
      },
      "source": [
        "III.Nested For Loop"
      ]
    },
    {
      "cell_type": "code",
      "metadata": {
        "id": "eTs_rCMDBhqV",
        "colab": {
          "base_uri": "https://localhost:8080/"
        },
        "outputId": "372397f7-173e-4b85-867a-ae29b36c40a0"
      },
      "source": [
        "#for inside for   .....1 to 10 table\n",
        "\n",
        "for i in range(1,11):\n",
        "  for j in range(1,11):\n",
        "    print(i*j,end='  ')    #1*1   ,#1*2\n",
        "                           #2 *1   #2*2\n",
        "  print(\"\\n\")\n",
        "\n"
      ],
      "execution_count": 37,
      "outputs": [
        {
          "output_type": "stream",
          "name": "stdout",
          "text": [
            "1  2  3  4  5  6  7  8  9  10  \n",
            "\n",
            "2  4  6  8  10  12  14  16  18  20  \n",
            "\n",
            "3  6  9  12  15  18  21  24  27  30  \n",
            "\n",
            "4  8  12  16  20  24  28  32  36  40  \n",
            "\n",
            "5  10  15  20  25  30  35  40  45  50  \n",
            "\n",
            "6  12  18  24  30  36  42  48  54  60  \n",
            "\n",
            "7  14  21  28  35  42  49  56  63  70  \n",
            "\n",
            "8  16  24  32  40  48  56  64  72  80  \n",
            "\n",
            "9  18  27  36  45  54  63  72  81  90  \n",
            "\n",
            "10  20  30  40  50  60  70  80  90  100  \n",
            "\n"
          ]
        }
      ]
    },
    {
      "cell_type": "code",
      "source": [
        "#Eg 1 to 4 table\n",
        "\n",
        "i=1\n",
        "while i<=4:\n",
        "  j=0\n",
        "\n",
        "  while j<=3:\n",
        "    print(i*j,end=\"  \")    #1*0    #1*2\n",
        "\n",
        "                     #  i=2\n",
        "                     #j=0    #j=1\n",
        "    j=j+1\n",
        "  print()\n",
        "  i=i+1    #i=2\n"
      ],
      "metadata": {
        "id": "BIkN1ncycmX5",
        "colab": {
          "base_uri": "https://localhost:8080/"
        },
        "outputId": "9971fd1c-b8a4-46ef-c406-1cb6f503459a"
      },
      "execution_count": 38,
      "outputs": [
        {
          "output_type": "stream",
          "name": "stdout",
          "text": [
            "0  1  2  3  \n",
            "0  2  4  6  \n",
            "0  3  6  9  \n",
            "0  4  8  12  \n"
          ]
        }
      ]
    },
    {
      "cell_type": "code",
      "metadata": {
        "id": "mBxR84KSBhqV",
        "colab": {
          "base_uri": "https://localhost:8080/"
        },
        "outputId": "b19c23e1-13ef-47cb-bc8e-bbedd2d3998e"
      },
      "source": [
        "#while loop inside for loop....apple mango pineapple\n",
        "\n",
        "\n",
        "\n",
        "fruits=['Apple','Mango','Pineapple']\n",
        "\n",
        "for i in fruits:\n",
        "  count=0\n",
        "  while count<5:\n",
        "    print(i,end=\" \")\n",
        "    count=count+1\n",
        "  print()"
      ],
      "execution_count": 39,
      "outputs": [
        {
          "output_type": "stream",
          "name": "stdout",
          "text": [
            "Apple Apple Apple Apple Apple \n",
            "Mango Mango Mango Mango Mango \n",
            "Pineapple Pineapple Pineapple Pineapple Pineapple \n"
          ]
        }
      ]
    },
    {
      "cell_type": "code",
      "source": [
        ""
      ],
      "metadata": {
        "id": "lLzoh5a1AnSH"
      },
      "execution_count": 39,
      "outputs": []
    },
    {
      "cell_type": "markdown",
      "metadata": {
        "id": "EpkSQH-WV6Ji"
      },
      "source": [
        "## 8.Functions"
      ]
    },
    {
      "cell_type": "markdown",
      "metadata": {
        "id": "78UJqmOjZtqm"
      },
      "source": [
        "## Functions"
      ]
    },
    {
      "cell_type": "code",
      "source": [
        "y=[\"hi\",\"hello\"]"
      ],
      "metadata": {
        "id": "WEAVDOXMDcsf"
      },
      "execution_count": 40,
      "outputs": []
    },
    {
      "cell_type": "code",
      "metadata": {
        "id": "kOP724CFr24e",
        "colab": {
          "base_uri": "https://localhost:8080/"
        },
        "outputId": "51f75193-ca1a-4ef9-b7cc-1dd6e4af0eaa"
      },
      "source": [
        "y.append(10)\n",
        "y"
      ],
      "execution_count": 41,
      "outputs": [
        {
          "output_type": "execute_result",
          "data": {
            "text/plain": [
              "['hi', 'hello', 10]"
            ]
          },
          "metadata": {},
          "execution_count": 41
        }
      ]
    },
    {
      "cell_type": "code",
      "metadata": {
        "id": "_SIlZ0n_pAPO",
        "colab": {
          "base_uri": "https://localhost:8080/"
        },
        "outputId": "ae4d23b1-c9e6-4905-a7d5-ba014bda6f8c"
      },
      "source": [
        "y.append([2,3,4,5]) \n",
        "print(y)"
      ],
      "execution_count": 42,
      "outputs": [
        {
          "output_type": "stream",
          "name": "stdout",
          "text": [
            "['hi', 'hello', 10, [2, 3, 4, 5]]\n"
          ]
        }
      ]
    },
    {
      "cell_type": "code",
      "metadata": {
        "id": "FHjfhBciqGtI",
        "colab": {
          "base_uri": "https://localhost:8080/"
        },
        "outputId": "386374e4-9d53-4cc7-e9b9-71d169f70476"
      },
      "source": [
        "y.extend([94,56,34])\n",
        "print(y)\n"
      ],
      "execution_count": 43,
      "outputs": [
        {
          "output_type": "stream",
          "name": "stdout",
          "text": [
            "['hi', 'hello', 10, [2, 3, 4, 5], 94, 56, 34]\n"
          ]
        }
      ]
    },
    {
      "cell_type": "code",
      "metadata": {
        "id": "MjcnPZgySmM5",
        "colab": {
          "base_uri": "https://localhost:8080/"
        },
        "outputId": "c3569789-bb7b-4016-ba8c-602f766fa564"
      },
      "source": [
        "y=y+[\"i\",\"like\",\"programming\"]\n",
        "y"
      ],
      "execution_count": 44,
      "outputs": [
        {
          "output_type": "execute_result",
          "data": {
            "text/plain": [
              "['hi', 'hello', 10, [2, 3, 4, 5], 94, 56, 34, 'i', 'like', 'programming']"
            ]
          },
          "metadata": {},
          "execution_count": 44
        }
      ]
    },
    {
      "cell_type": "code",
      "metadata": {
        "id": "oa8zKHpasp-g"
      },
      "source": [
        ""
      ],
      "execution_count": 44,
      "outputs": []
    },
    {
      "cell_type": "code",
      "metadata": {
        "id": "bGkIf1iUSEu_",
        "colab": {
          "base_uri": "https://localhost:8080/"
        },
        "outputId": "4aaec2c7-01c0-4fa2-a82e-1d3d0af5a317"
      },
      "source": [
        "y.insert(4,\"HarryPotter\")\n",
        "print(y)"
      ],
      "execution_count": 45,
      "outputs": [
        {
          "output_type": "stream",
          "name": "stdout",
          "text": [
            "['hi', 'hello', 10, [2, 3, 4, 5], 'HarryPotter', 94, 56, 34, 'i', 'like', 'programming']\n"
          ]
        }
      ]
    },
    {
      "cell_type": "code",
      "metadata": {
        "id": "b33B3-lJSE51",
        "colab": {
          "base_uri": "https://localhost:8080/"
        },
        "outputId": "aee18692-92b5-42be-9df9-3ed89d94f1a3"
      },
      "source": [
        "y.pop()   #deletes the last element but can be used to detete specific element using pop(6)\n",
        "print(y)"
      ],
      "execution_count": 46,
      "outputs": [
        {
          "output_type": "stream",
          "name": "stdout",
          "text": [
            "['hi', 'hello', 10, [2, 3, 4, 5], 'HarryPotter', 94, 56, 34, 'i', 'like']\n"
          ]
        }
      ]
    },
    {
      "cell_type": "code",
      "metadata": {
        "id": "OU5dFDwzSFFd",
        "colab": {
          "base_uri": "https://localhost:8080/"
        },
        "outputId": "382c2c13-807b-4246-a5ca-4c8bb6afb6a6"
      },
      "source": [
        "y.pop(5)\n",
        "print(y)"
      ],
      "execution_count": 47,
      "outputs": [
        {
          "output_type": "stream",
          "name": "stdout",
          "text": [
            "['hi', 'hello', 10, [2, 3, 4, 5], 'HarryPotter', 56, 34, 'i', 'like']\n"
          ]
        }
      ]
    },
    {
      "cell_type": "code",
      "metadata": {
        "id": "hitk1cCZSFM2",
        "colab": {
          "base_uri": "https://localhost:8080/"
        },
        "outputId": "17f03c7b-aa7b-4463-a20f-9aa7bc271cec"
      },
      "source": [
        "y.remove(\"HarryPotter\")\n",
        "print(y) "
      ],
      "execution_count": 48,
      "outputs": [
        {
          "output_type": "stream",
          "name": "stdout",
          "text": [
            "['hi', 'hello', 10, [2, 3, 4, 5], 56, 34, 'i', 'like']\n"
          ]
        }
      ]
    },
    {
      "cell_type": "code",
      "metadata": {
        "id": "UhWpKC5hZwqi"
      },
      "source": [
        "lst=[\"sun\",\"moon\",\"earth\"]"
      ],
      "execution_count": 49,
      "outputs": []
    },
    {
      "cell_type": "code",
      "metadata": {
        "id": "f-tjgHwBZwtT"
      },
      "source": [
        "tpl=(\"Apple\",\"Mango\",\"Pineapple\")"
      ],
      "execution_count": 50,
      "outputs": []
    },
    {
      "cell_type": "code",
      "metadata": {
        "id": "v4ngv1kkZwww",
        "colab": {
          "base_uri": "https://localhost:8080/"
        },
        "outputId": "12fdab1b-5743-4e62-eb0f-7339d13b8366"
      },
      "source": [
        "type(tpl)"
      ],
      "execution_count": 51,
      "outputs": [
        {
          "output_type": "execute_result",
          "data": {
            "text/plain": [
              "tuple"
            ]
          },
          "metadata": {},
          "execution_count": 51
        }
      ]
    },
    {
      "cell_type": "code",
      "metadata": {
        "id": "Y19NRXxJ81Y1",
        "colab": {
          "base_uri": "https://localhost:8080/"
        },
        "outputId": "c004419d-9263-428f-b32f-4b4e995089da"
      },
      "source": [
        "type(lst)"
      ],
      "execution_count": 52,
      "outputs": [
        {
          "output_type": "execute_result",
          "data": {
            "text/plain": [
              "list"
            ]
          },
          "metadata": {},
          "execution_count": 52
        }
      ]
    },
    {
      "cell_type": "code",
      "metadata": {
        "id": "LEekqANW81bO",
        "colab": {
          "base_uri": "https://localhost:8080/"
        },
        "outputId": "b0241ded-4c75-4660-938f-40f2f8476021"
      },
      "source": [
        "a=67\n",
        "b=98\n",
        "c=b<a\n",
        "bool(c)"
      ],
      "execution_count": 53,
      "outputs": [
        {
          "output_type": "execute_result",
          "data": {
            "text/plain": [
              "False"
            ]
          },
          "metadata": {},
          "execution_count": 53
        }
      ]
    },
    {
      "cell_type": "code",
      "metadata": {
        "id": "vSxFoKdB95r2",
        "colab": {
          "base_uri": "https://localhost:8080/"
        },
        "outputId": "fa7dafaf-9765-49a8-8d6f-f31002090783"
      },
      "source": [
        "len(tpl)"
      ],
      "execution_count": 55,
      "outputs": [
        {
          "output_type": "execute_result",
          "data": {
            "text/plain": [
              "3"
            ]
          },
          "metadata": {},
          "execution_count": 55
        }
      ]
    },
    {
      "cell_type": "code",
      "metadata": {
        "id": "NINST7Bt95ue",
        "colab": {
          "base_uri": "https://localhost:8080/"
        },
        "outputId": "ee38d244-c5b0-4fa4-b9a3-d286aeed12c1"
      },
      "source": [
        "min(4,89,78)"
      ],
      "execution_count": 56,
      "outputs": [
        {
          "output_type": "execute_result",
          "data": {
            "text/plain": [
              "4"
            ]
          },
          "metadata": {},
          "execution_count": 56
        }
      ]
    },
    {
      "cell_type": "code",
      "metadata": {
        "id": "zPuzIpls95w9",
        "colab": {
          "base_uri": "https://localhost:8080/"
        },
        "outputId": "4cf40038-e211-4381-b4c3-f47fd502d86a"
      },
      "source": [
        "max(5,8,45)"
      ],
      "execution_count": 57,
      "outputs": [
        {
          "output_type": "execute_result",
          "data": {
            "text/plain": [
              "45"
            ]
          },
          "metadata": {},
          "execution_count": 57
        }
      ]
    },
    {
      "cell_type": "code",
      "metadata": {
        "id": "Vd6LR9ss950P"
      },
      "source": [
        "x=[\"a\",\"d\",\"u\"]"
      ],
      "execution_count": 58,
      "outputs": []
    },
    {
      "cell_type": "code",
      "metadata": {
        "id": "Nw68E262-NUQ",
        "colab": {
          "base_uri": "https://localhost:8080/"
        },
        "outputId": "3b6bfae3-fe50-4375-ffa1-53a5bb11deb8"
      },
      "source": [
        "sorted(x)"
      ],
      "execution_count": 59,
      "outputs": [
        {
          "output_type": "execute_result",
          "data": {
            "text/plain": [
              "['a', 'd', 'u']"
            ]
          },
          "metadata": {},
          "execution_count": 59
        }
      ]
    },
    {
      "cell_type": "code",
      "metadata": {
        "id": "ViZPDwml-NXv"
      },
      "source": [
        "def my_func(firstname):        #defining a function\n",
        "  print(firstname + 'DataScientist')\n"
      ],
      "execution_count": 60,
      "outputs": []
    },
    {
      "cell_type": "code",
      "metadata": {
        "id": "Fy-rF4ANCOKd",
        "colab": {
          "base_uri": "https://localhost:8080/"
        },
        "outputId": "2689095c-f471-4c4b-8434-e997ec0e37fd"
      },
      "source": [
        "my_func('Divya')   #calling a function"
      ],
      "execution_count": 61,
      "outputs": [
        {
          "output_type": "stream",
          "name": "stdout",
          "text": [
            "DivyaDataScientist\n"
          ]
        }
      ]
    },
    {
      "cell_type": "code",
      "source": [
        ""
      ],
      "metadata": {
        "id": "hRIhSyeKDvDl"
      },
      "execution_count": 61,
      "outputs": []
    },
    {
      "cell_type": "code",
      "metadata": {
        "id": "IZeWA9naDV6g"
      },
      "source": [
        "def f1(favfood='Biryani'):\n",
        "  print(\"I love \" + favfood)"
      ],
      "execution_count": 62,
      "outputs": []
    },
    {
      "cell_type": "code",
      "metadata": {
        "id": "dbqQ7KZqDV90",
        "colab": {
          "base_uri": "https://localhost:8080/"
        },
        "outputId": "ca778815-ccf6-4abe-fe0e-97cc937be3cf"
      },
      "source": [
        "f1(\"Italian\")"
      ],
      "execution_count": 63,
      "outputs": [
        {
          "output_type": "stream",
          "name": "stdout",
          "text": [
            "I love Italian\n"
          ]
        }
      ]
    },
    {
      "cell_type": "code",
      "metadata": {
        "id": "6mZD4cssDV_k"
      },
      "source": [
        "def f2(x):\n",
        "  return 5*x  #5*6"
      ],
      "execution_count": 64,
      "outputs": []
    },
    {
      "cell_type": "code",
      "metadata": {
        "id": "hzPNzNFKDWCM",
        "colab": {
          "base_uri": "https://localhost:8080/"
        },
        "outputId": "36954bed-25bd-4ae5-9621-c02c991b51e9"
      },
      "source": [
        "f2(6)"
      ],
      "execution_count": 65,
      "outputs": [
        {
          "output_type": "execute_result",
          "data": {
            "text/plain": [
              "30"
            ]
          },
          "metadata": {},
          "execution_count": 65
        }
      ]
    },
    {
      "cell_type": "code",
      "metadata": {
        "id": "1u8LRKiTYNJR",
        "colab": {
          "base_uri": "https://localhost:8080/"
        },
        "outputId": "ed240ff4-3021-43b8-8ad2-dc2c9c41560c"
      },
      "source": [
        "def function_name(Friend1,Friend2,Friend3):\n",
        "  print(\"My bestfriend is \" + Friend3)\n",
        "\n",
        "  \n",
        "function_name(Friend1='A',Friend2='B',Friend3='C')"
      ],
      "execution_count": 66,
      "outputs": [
        {
          "output_type": "stream",
          "name": "stdout",
          "text": [
            "My bestfriend is C\n"
          ]
        }
      ]
    },
    {
      "cell_type": "markdown",
      "source": [
        "\n",
        "\n",
        "\n",
        "\n",
        "\n",
        "\n",
        "#Project"
      ],
      "metadata": {
        "id": "YpkPEsp2Rzgd"
      }
    },
    {
      "cell_type": "code",
      "source": [
        "print(\"Welcome to Indian Bank\")\n",
        "restart=('Y')\n",
        "chances=3\n",
        "balance=10000\n",
        "while chances>=0:\n",
        "  pin=int(input(\"Please enter your 4-digit pin: \"))\n",
        "  if pin==(1234):\n",
        "    print(\"You have correctly entered the PIN\")\n",
        "    while restart not in ('n','N'):\n",
        "      print(\"Press 1 for viewing balance\\n\")\n",
        "      print(\"Press 2 for withdrawal\\n\")\n",
        "      print(\"Press 3 for pay in\\n\")\n",
        "      print(\"Press 4 to your return card\\n\")\n",
        "      option=int(input(\"What would you like to choose?\"))\n",
        "      if option==1:\n",
        "        print(\"Your balance is\",balance,\"\\n\")\n",
        "        restart=input(\"Would you like to go back?\")\n",
        "        if restart in ('n','N'):\n",
        "          print(\"Thank You for banking with Indian Bank\")\n",
        "          break\n",
        "      elif option==2:\n",
        "        withdrawal=int(input(\"How much money do you want to withdraw: \"))\n",
        "        if withdrawal>balance:\n",
        "          print(\"You dont have enough balance \")\n",
        "        if withdrawal<balance:\n",
        "          print(\"Withdrawal is successful\")\n",
        "          balance=balance-withdrawal\n",
        "          print(\"Your current balance is\", balance)\n",
        "          restart=input(\"Would you like to go back?\")\n",
        "        if restart in ('n','N'):\n",
        "          print(\"Thank You for banking with Indian Bank\")\n",
        "          break\n",
        "      elif option==3:\n",
        "        pay_in=int(input(\"How much money you would like to pay in?\"))\n",
        "        balance=balance+pay_in   #balance+=pay_in\n",
        "        print(\"You currect balance is\",balance,\"\\n\")\n",
        "        restart=input(\"Would you like to go back?\")\n",
        "        if restart in ('n','N'):\n",
        "          print(\"Thank You for banking with Indian Bank\")\n",
        "          break\n",
        "      elif option==4:\n",
        "        print(\"Please wait till your card is returned\")\n",
        "        print(\"Thank You for banking with Indian Bank\")\n",
        "        break\n",
        "      else: \n",
        "        print(\"Please enter a correct number from 1 to 4\")\n",
        "  elif pin!=('1234'):\n",
        "    print(\"Incorrect pin\")\n",
        "    chances=chances-1\n",
        "    if chances==0:\n",
        "      print(\"No more chances\")\n",
        "      break        \n",
        "        \n",
        "\n",
        "    \n",
        "      \n",
        "        \n",
        "\n",
        "\n",
        "\n"
      ],
      "metadata": {
        "colab": {
          "base_uri": "https://localhost:8080/"
        },
        "id": "-pDj-zFJRQOa",
        "outputId": "9bda7505-1062-4a25-bc72-65d2fa2f5bb3"
      },
      "execution_count": 67,
      "outputs": [
        {
          "output_type": "stream",
          "name": "stdout",
          "text": [
            "Welcome to Indian Bank\n",
            "Please enter your 4-digit pin: 1234\n",
            "You have correctly entered the PIN\n",
            "Press 1 for viewing balance\n",
            "\n",
            "Press 2 for withdrawal\n",
            "\n",
            "Press 3 for pay in\n",
            "\n",
            "Press 4 to your return card\n",
            "\n",
            "What would you like to choose?1\n",
            "Your balance is 10000 \n",
            "\n",
            "Would you like to go back?y\n",
            "Press 1 for viewing balance\n",
            "\n",
            "Press 2 for withdrawal\n",
            "\n",
            "Press 3 for pay in\n",
            "\n",
            "Press 4 to your return card\n",
            "\n",
            "What would you like to choose?2\n",
            "How much money do you want to withdraw: 3000\n",
            "Withdrawal is successful\n",
            "Your current balance is 7000\n",
            "Would you like to go back?y\n",
            "Press 1 for viewing balance\n",
            "\n",
            "Press 2 for withdrawal\n",
            "\n",
            "Press 3 for pay in\n",
            "\n",
            "Press 4 to your return card\n",
            "\n",
            "What would you like to choose?3\n",
            "How much money you would like to pay in?7000\n",
            "You currect balance is 14000 \n",
            "\n",
            "Would you like to go back?y\n",
            "Press 1 for viewing balance\n",
            "\n",
            "Press 2 for withdrawal\n",
            "\n",
            "Press 3 for pay in\n",
            "\n",
            "Press 4 to your return card\n",
            "\n",
            "What would you like to choose?4\n",
            "Please wait till your card is returned\n",
            "Thank You for banking with Indian Bank\n",
            "Please enter your 4-digit pin: 4567\n",
            "Incorrect pin\n",
            "Please enter your 4-digit pin: 7890\n",
            "Incorrect pin\n",
            "Please enter your 4-digit pin: 2345\n",
            "Incorrect pin\n",
            "No more chances\n"
          ]
        }
      ]
    },
    {
      "cell_type": "code",
      "source": [
        ""
      ],
      "metadata": {
        "id": "9w8q_uU6EFgl"
      },
      "execution_count": null,
      "outputs": []
    }
  ]
}